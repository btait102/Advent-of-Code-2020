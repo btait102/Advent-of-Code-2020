{
 "cells": [
  {
   "cell_type": "markdown",
   "metadata": {},
   "source": [
    "# Day1"
   ]
  },
  {
   "cell_type": "markdown",
   "metadata": {},
   "source": [
    "Find the two entries that sum to 2020; what do you get if you multiply them together?"
   ]
  },
  {
   "cell_type": "code",
   "execution_count": null,
   "metadata": {},
   "outputs": [],
   "source": [
    "import numpy as np\n",
    "import itertools\n",
    "\n",
    "with open(\"C:/Users/btait/Documents/Advent of code/2020/Day1.txt\", \"r\") as f:\n",
    "    lst=[int(x) for x in f.read().split()]\n",
    "    \n",
    "def findPairs(lst):    \n",
    "    res = [] \n",
    "    for var in itertools.combinations(lst, 2): \n",
    "        if var[0] + var[1] == 2020: \n",
    "            res.append((var[0]* var[1])) \n",
    "          \n",
    "    return res \n",
    "      \n",
    "# Driver code \n",
    "print(findPairs(lst))"
   ]
  },
  {
   "cell_type": "markdown",
   "metadata": {},
   "source": [
    "what is the product of the three entries that sum to 2020?"
   ]
  },
  {
   "cell_type": "code",
   "execution_count": null,
   "metadata": {},
   "outputs": [],
   "source": [
    "def findtrios(lst):    \n",
    "    res = [] \n",
    "    for var in itertools.combinations(lst, 3): \n",
    "        if var[0] + var[1] + var[2] == 2020: \n",
    "            res.append((var[0]* var[1]*var[2])) \n",
    "          \n",
    "    return res\n",
    "\n",
    "print(findtrios(lst))"
   ]
  },
  {
   "cell_type": "markdown",
   "metadata": {},
   "source": [
    "# Day2"
   ]
  },
  {
   "cell_type": "markdown",
   "metadata": {},
   "source": [
    "Their password database seems to be a little corrupted: some of the passwords wouldn't have been allowed by the Official Toboggan Corporate Policy that was in effect when they were chosen.\n",
    "\n",
    "To try to debug the problem, they have created a list (your puzzle input) of passwords (according to the corrupted database) and the corporate policy when that password was set.\n",
    "\n",
    "For example, suppose you have the following list:\n",
    "\n",
    "1-3 a: abcde\n",
    "1-3 b: cdefg\n",
    "2-9 c: ccccccccc\n",
    "\n",
    "Each line gives the password policy and then the password. The password policy indicates the lowest and highest number of times a given letter must appear for the password to be valid. For example, 1-3 a means that the password must contain a at least 1 time and at most 3 times.\n",
    "\n",
    "In the above example, 2 passwords are valid. The middle password, cdefg, is not; it contains no instances of b, but needs at least 1. The first and third passwords are valid: they contain one a or nine c, both within the limits of their respective policies.\n",
    "\n",
    "How many passwords are valid according to their policies?"
   ]
  },
  {
   "cell_type": "code",
   "execution_count": null,
   "metadata": {},
   "outputs": [],
   "source": [
    "with open(\"C:/Users/btait/Documents/Advent of code/2020/Day2.txt\", \"r\") as f:\n",
    "    day2=[str(x) for x in f.read().split()]\n",
    "\n",
    "#get rid of the :\n",
    "day2 = [x.replace(':','') for x in day2]\n",
    "\n",
    "#group three elements together into a sublist\n",
    "subList = [day2[n:n+3] for n in range(0, len(day2), 3)]\n",
    "\n",
    "\n",
    "range_count=list(zip([s[0].split(\"-\") for s in subList],\n",
    "                     [s[2].count(s[1]) for s in subList]))\n",
    "\n",
    "range_pswds=list(zip([s[0].split(\"-\") for s in subList],\n",
    "                     [a[1] for a in subList],\n",
    "                     [a[2] for a in subList]))"
   ]
  },
  {
   "cell_type": "code",
   "execution_count": null,
   "metadata": {},
   "outputs": [],
   "source": [
    "pswds2=[]\n",
    "\n",
    "for a in range_count:\n",
    "    if a[1] in range(int(a[0][0]),int(a[0][1])+1):\n",
    "        pswds2.append(a[1])\n",
    "        \n",
    "len(pswds2)"
   ]
  },
  {
   "cell_type": "markdown",
   "metadata": {},
   "source": [
    "The shopkeeper suddenly realizes that he just accidentally explained the password policy rules from his old job at the sled rental place down the street! The Official Toboggan Corporate Policy actually works a little differently.\n",
    "\n",
    "Each policy actually describes two positions in the password, where 1 means the first character, 2 means the second character, and so on. (Be careful; Toboggan Corporate Policies have no concept of \"index zero\"!) Exactly one of these positions must contain the given letter. Other occurrences of the letter are irrelevant for the purposes of policy enforcement.\n",
    "\n",
    "Given the same example list from above:\n",
    "\n",
    "1-3 a: abcde is valid: position 1 contains a and position 3 does not.\n",
    "1-3 b: cdefg is invalid: neither position 1 nor position 3 contains b.\n",
    "2-9 c: ccccccccc is invalid: both position 2 and position 9 contain c.\n",
    "How many passwords are valid according to the new interpretation of the policies?"
   ]
  },
  {
   "cell_type": "code",
   "execution_count": null,
   "metadata": {},
   "outputs": [],
   "source": [
    "pswds3=[]\n",
    "\n",
    "for a in range_pswds:\n",
    "    if (a[2][int(a[0][0])-1]==a[1] and not(a[2][int(a[0][1])-1]==a[1])) or (a[2][int(a[0][1])-1]==a[1] and not (a[2][int(a[0][0])-1]==a[1])):\n",
    "        pswds3.append(a[2]) \n",
    "\n",
    "len(pswds3)"
   ]
  },
  {
   "cell_type": "markdown",
   "metadata": {},
   "source": [
    "# Day3"
   ]
  },
  {
   "cell_type": "markdown",
   "metadata": {},
   "source": [
    "NO idea how to even start that!"
   ]
  },
  {
   "cell_type": "markdown",
   "metadata": {},
   "source": [
    "# Day4"
   ]
  },
  {
   "cell_type": "code",
   "execution_count": null,
   "metadata": {},
   "outputs": [],
   "source": [
    "import re\n",
    "\n",
    "with open(\"C:/Users/btait/Documents/Advent of code/2020/Day4.txt\", \"r\") as f:\n",
    "    day4=[str(x) for x in f.read().split(\"\\n\\n\")]"
   ]
  },
  {
   "cell_type": "code",
   "execution_count": null,
   "metadata": {},
   "outputs": [],
   "source": [
    "day4=[re.split(\"\\n| \",a) for a in day4]\n",
    "\n",
    "day4_dict= [dict([char.split(\":\") for char in person]) for person in day4]"
   ]
  },
  {
   "cell_type": "code",
   "execution_count": null,
   "metadata": {},
   "outputs": [],
   "source": [
    "chars = ['byr','iyr','eyr','hgt','hcl','ecl','pid']\n",
    "\n",
    "personchars=[]\n",
    "validperson=[]\n",
    "\n",
    "for person in day4_dict:\n",
    "    for char in chars:\n",
    "        if person.get(char)!=None:\n",
    "            personchars.append(person.get(char))\n",
    "        if len(personchars)==7:\n",
    "            validperson.append(person.get(\"pid\"))\n",
    "    personchars=[]\n",
    "\n",
    "len(validperson)"
   ]
  },
  {
   "cell_type": "code",
   "execution_count": null,
   "metadata": {},
   "outputs": [],
   "source": [
    "eyecols=['amb','blu','brn','gry','grn','hzl','oth']\n",
    "allowedSymbols=['0','1','2','3','4','5','6','7','8','9','a','b','c','d','e','f','#']\n",
    "\n",
    "personchars=[]\n",
    "validperson=[]\n",
    "\n",
    "for person in day4_dict:\n",
    "    \n",
    "    #byr (Birth Year) - four digits; at least 1920 and at most 2002.\n",
    "    if person.get(\"byr\") != None and int(person.get(\"byr\")) in range(1920,2003):\n",
    "        personchars.append(person.get(\"byr\"))\n",
    "        \n",
    "    #iyr (Issue Year) - four digits; at least 2010 and at most 2020.\n",
    "    if person.get(\"iyr\") != None and int(person.get(\"iyr\")) in range(2010,2021):\n",
    "        personchars.append(person.get(\"iyr\"))\n",
    "        \n",
    "    #eyr (Expiration Year) - four digits; at least 2020 and at most 2030.\n",
    "    if person.get(\"eyr\") != None and int(person.get(\"eyr\")) in range(2020,2031):\n",
    "        personchars.append(person.get(\"eyr\"))\n",
    "        \n",
    "    #hgt (Height) - a number followed by either cm or in:\n",
    "        #If cm, the number must be at least 150 and at most 193.\n",
    "        #If in, the number must be at least 59 and at most 76.\n",
    "    if person.get(\"hgt\") != None and person.get('hgt')[-2:]==\"cm\" and int(person.get('hgt')[:-2]) in range(150,194) :\n",
    "        personchars.append(person.get(\"hgt\"))             \n",
    "    elif person.get(\"hgt\") != None and person.get('hgt')[-2:]==\"in\" and int(person.get('hgt')[:-2]) in range(59,77) :\n",
    "        personchars.append(person.get(\"hgt\"))\n",
    "        \n",
    "    #hcl (Hair Color) - a # followed by exactly six characters 0-9 or a-f.\n",
    "    if person.get('hcl')!=None and person.get('hcl')[0]==\"#\" and len(person.get('hcl'))==7 and all(c in allowedSymbols for c in person.get('hcl')):\n",
    "        personchars.append(person.get(\"hcl\"))\n",
    "                                        \n",
    "    #ecl (Eye Color) - exactly one of: amb blu brn gry grn hzl oth.                                  \n",
    "    if person.get('ecl')!=None and person.get('ecl') in eyecols:\n",
    "        personchars.append(person.get(\"ecl\"))\n",
    "    \n",
    "    #pid (Passport ID) - a nine-digit number, including leading zeroes.                                   \n",
    "    if person.get('pid')!= None and len(person.get('pid'))==9:\n",
    "        personchars.append(person.get(\"pid\"))\n",
    "                                        \n",
    "    if len(personchars)==7:\n",
    "            validperson.append(person.get(\"pid\"))\n",
    "    personchars=[]\n",
    "\n",
    "len(validperson)"
   ]
  },
  {
   "cell_type": "markdown",
   "metadata": {},
   "source": [
    "# Day5"
   ]
  },
  {
   "cell_type": "markdown",
   "metadata": {},
   "source": [
    "Instead of zones or groups, this airline uses binary space partitioning to seat people. A seat might be specified like FBFBBFFRLR, where F means \"front\", B means \"back\", L means \"left\", and R means \"right\".\n",
    "\n",
    "The first 7 characters will either be F or B; these specify exactly one of the 128 rows on the plane (numbered 0 through 127). Each letter tells you which half of a region the given seat is in. Start with the whole list of rows; the first letter indicates whether the seat is in the front (0 through 63) or the back (64 through 127). The next letter indicates which half of that region the seat is in, and so on until you're left with exactly one row.\n",
    "\n",
    "For example, consider just the first seven characters of FBFBBFFRLR:\n",
    "\n",
    "Start by considering the whole range, rows 0 through 127.\n",
    "F means to take the lower half, keeping rows 0 through 63.\n",
    "B means to take the upper half, keeping rows 32 through 63.\n",
    "F means to take the lower half, keeping rows 32 through 47.\n",
    "B means to take the upper half, keeping rows 40 through 47.\n",
    "B keeps rows 44 through 47.\n",
    "F keeps rows 44 through 45.\n",
    "The final F keeps the lower of the two, row 44.\n",
    "The last three characters will be either L or R; these specify exactly one of the 8 columns of seats on the plane (numbered 0 through 7). The same process as above proceeds again, this time with only three steps. L means to keep the lower half, while R means to keep the upper half.\n",
    "\n",
    "For example, consider just the last 3 characters of FBFBBFFRLR:\n",
    "\n",
    "Start by considering the whole range, columns 0 through 7.\n",
    "R means to take the upper half, keeping columns 4 through 7.\n",
    "L means to take the lower half, keeping columns 4 through 5.\n",
    "The final R keeps the upper of the two, column 5.\n",
    "So, decoding FBFBBFFRLR reveals that it is the seat at row 44, column 5.\n",
    "\n",
    "Every seat also has a unique seat ID: multiply the row by 8, then add the column. In this example, the seat has ID 44 * 8 + 5 = 357."
   ]
  },
  {
   "cell_type": "code",
   "execution_count": null,
   "metadata": {},
   "outputs": [],
   "source": [
    "with open(\"C:/Users/btait/Documents/Advent of code/2020/Day5.txt\", \"r\") as f:\n",
    "    day5=[str(x) for x in f.read().split(\"\\n\")]"
   ]
  },
  {
   "cell_type": "code",
   "execution_count": null,
   "metadata": {},
   "outputs": [],
   "source": [
    "seatids=[]\n",
    "seatidsref=[]\n",
    "\n",
    "for seatref in day5:\n",
    "    startrow=0\n",
    "    lastrow=128\n",
    "    startseat=0\n",
    "    lastseat=8\n",
    "    \n",
    "    for a in seatref[:-3]:\n",
    "        if a=='F':\n",
    "            lastrow=lastrow-((lastrow-startrow)/2)\n",
    "        elif a=='B':\n",
    "            startrow=startrow+((lastrow-startrow)/2)\n",
    "            \n",
    "    for a in seatref[-3:]:\n",
    "        if a ==\"L\":\n",
    "            lastseat=lastseat-((lastseat-startseat)/2)\n",
    "        elif a=='R':\n",
    "            startseat=startseat+((lastseat-startseat)/2)\n",
    "\n",
    "    seatids.append(int(startrow*8+startseat))\n",
    "\n",
    "max(seatids)\n",
    "\n"
   ]
  },
  {
   "cell_type": "markdown",
   "metadata": {},
   "source": [
    "It's a completely full flight, so your seat should be the only missing boarding pass in your list. However, there's a catch: some of the seats at the very front and back of the plane don't exist on this aircraft, so they'll be missing from your list as well.\n",
    "\n",
    "Your seat wasn't at the very front or back, though; the seats with IDs +1 and -1 from yours will be in your list."
   ]
  },
  {
   "cell_type": "code",
   "execution_count": null,
   "metadata": {},
   "outputs": [],
   "source": [
    "emptyseats=[]\n",
    "\n",
    "#for a range from the minimun seat id to the maximum seat id, if the seat id is not in the list of seat ids, but the \n",
    "#preceding and succeeding seatids is in the list, add this to the emptyseat id list and break\n",
    "\n",
    "for a in range(min(seatids),max(seatids)):\n",
    "    if (a not in seatids) and (a-1 in seatids) and (a+1 in seatids):\n",
    "        emptyseats.append(a)\n",
    "        break\n",
    "\n",
    "emptyseats"
   ]
  },
  {
   "cell_type": "markdown",
   "metadata": {},
   "source": [
    "# Day 6"
   ]
  },
  {
   "cell_type": "code",
   "execution_count": null,
   "metadata": {},
   "outputs": [],
   "source": [
    "import itertools\n",
    "from collections import Counter\n",
    "\n",
    "#open txt file and split on double return, this seprates groups\n",
    "with open(\"C:/Users/btait/Documents/Advent of code/2020/Day6.txt\", \"r\") as f:\n",
    "    day6=[str(x) for x in f.read().split(\"\\n\\n\")]\n",
    "\n",
    "#split again on single return, this will be per person\n",
    "day6=[x.split(\"\\n\") for x in day6]\n",
    "\n",
    "#create a list of the number of people in each groups\n",
    "NumberPeopleinGroups=[]\n",
    "\n",
    "for group in day6:\n",
    "    NumberPeopleinGroups.append(len(group))"
   ]
  },
  {
   "cell_type": "code",
   "execution_count": null,
   "metadata": {},
   "outputs": [],
   "source": [
    "#create a empty list, to which sets will be added\n",
    "day6_set=[]\n",
    "\n",
    "#split out all the individual letters and then create a set to only include the unique ones\n",
    "for group in day6:\n",
    "    group=set(itertools.chain.from_iterable(a))\n",
    "    day6_set.append(group)\n"
   ]
  },
  {
   "cell_type": "code",
   "execution_count": null,
   "metadata": {},
   "outputs": [],
   "source": [
    "#create a empty list \n",
    "yesquestion=[]\n",
    "\n",
    "#count the length of each set which will tell you how many yes questions there are\n",
    "for a in day6_set:\n",
    "    yesquestion.append(len(a))\n",
    "    \n",
    "sum(yesquestion)\n",
    "\n"
   ]
  },
  {
   "cell_type": "code",
   "execution_count": null,
   "metadata": {},
   "outputs": [],
   "source": []
  },
  {
   "cell_type": "code",
   "execution_count": null,
   "metadata": {},
   "outputs": [],
   "source": [
    "day6_pt2=[]\n",
    "\n",
    "for a in day6:\n",
    "    a=list(itertools.chain.from_iterable(a))\n",
    "    day6_pt2.append(Counter(a))\n"
   ]
  },
  {
   "cell_type": "code",
   "execution_count": null,
   "metadata": {},
   "outputs": [],
   "source": [
    "NumberPeople_CountofAnswers = list(zip(NumberPeopleinGroups,day6_pt2))\n",
    "\n",
    "day6_pt2a=[]\n",
    "day6_pt2b=[]\n",
    "\n",
    "for group in NumberPeople_CountofAnswers:\n",
    "    for question in group[1]:\n",
    "        if group[1].get(question)==group[0]:\n",
    "            day6_pt2a.append(question)\n",
    "    day6_pt2b.append(len(day6_pt2a))\n",
    "    day6_pt2a=[]\n",
    "\n",
    "    \n",
    "sum(day6_pt2b)"
   ]
  },
  {
   "cell_type": "markdown",
   "metadata": {},
   "source": [
    "# Day 7"
   ]
  },
  {
   "cell_type": "code",
   "execution_count": null,
   "metadata": {},
   "outputs": [],
   "source": [
    "import re\n",
    "\n",
    "#open txt file and split on double return, this seprates groups\n",
    "with open(\"C:/Users/btait/Documents/Advent of code/2020/Day7.txt\", \"r\") as f:\n",
    "    day7=[str(x) for x in f.read().split(\"\\n\")]\n",
    "\n",
    "#split again on single return, this will be per person\n",
    "day7=[x.split(\" bags contain \") for x in day7]\n",
    "\n"
   ]
  },
  {
   "cell_type": "code",
   "execution_count": null,
   "metadata": {},
   "outputs": [],
   "source": [
    "OuterBag=[]\n",
    "InnerBags=[]\n",
    "\n",
    "for rule in day7:\n",
    "    OuterBag.append(rule[0])\n",
    "\n",
    "for rule in day7:\n",
    "    InnerBags.append(rule[1:])\n",
    "\n",
    "InnerBags = [item for sublist in InnerBags for item in sublist]\n",
    "InnerBags= [re.split(' bags?[,|.] ?',bag)[:-1] for bag in InnerBags]\n",
    "InnerBags=[[re.split('(\\d+) ',bag)[1:] for bag in group] for group in InnerBags]\n",
    "\n",
    "InnerBags"
   ]
  },
  {
   "cell_type": "code",
   "execution_count": null,
   "metadata": {},
   "outputs": [],
   "source": [
    "day7_dict=dict(zip(OuterBag,InnerBags)) \n",
    "\n",
    "day7_dict"
   ]
  },
  {
   "cell_type": "code",
   "execution_count": null,
   "metadata": {},
   "outputs": [],
   "source": [
    "DottedBlack=[1]\n",
    "FadedBlue=[1]\n",
    "\n",
    "VibrantPlum=[5*DottedBlack,\n",
    "             6*FadedBlue]\n",
    "\n",
    "DarkOlive=[4*DottedBlack,\n",
    "          3*FadedBlue]\n",
    "\n",
    "ShinyGold=[DarkOlive,2*VibrantPlum]\n",
    "\n",
    "MutedYellow = [2*ShinyGold, 9*FadedBlue]\n",
    "\n",
    "BrightWhite=[ShinyGold]\n",
    "\n",
    "DarkOrange=[3*BrightWhite,4*MutedYellow]\n",
    "\n",
    "LightRed=[1*BrightWhite,2*MutedYellow]\n",
    "\n",
    "\n",
    "LightRed"
   ]
  },
  {
   "cell_type": "code",
   "execution_count": null,
   "metadata": {},
   "outputs": [],
   "source": [
    "Totalbags=list(itertools.chain.from_iterable(LightRed))\n",
    "Totalbags"
   ]
  },
  {
   "cell_type": "markdown",
   "metadata": {},
   "source": [
    "# Day 8"
   ]
  },
  {
   "cell_type": "code",
   "execution_count": null,
   "metadata": {},
   "outputs": [],
   "source": [
    "#open txt file and split on double return, this seprates groups\n",
    "with open(\"C:/Users/btait/Documents/Advent of code/2020/Day8.txt\", \"r\") as f:\n",
    "    day8=[str(x) for x in f.read().split(\"\\n\")]\n",
    "    \n",
    "day8=[x.split(\" \") for x in day8]"
   ]
  },
  {
   "cell_type": "code",
   "execution_count": null,
   "metadata": {},
   "outputs": [],
   "source": []
  },
  {
   "cell_type": "code",
   "execution_count": null,
   "metadata": {},
   "outputs": [],
   "source": [
    "day8=list(zip([a[0] for a in day8],[int(a[1]) for a in day8]))\n",
    "test=list(zip([a[0] for a in test],[int(a[1]) for a in test]))\n",
    "test"
   ]
  },
  {
   "cell_type": "code",
   "execution_count": null,
   "metadata": {},
   "outputs": [],
   "source": [
    "test=[['nop', '+0'],['acc', '+1'],['jmp', '+4'],['acc', '+3'],['jmp', '-3'],['acc', '-99'],['acc', '+1'],\n",
    "      ['jmp', '-4'],['acc', '+6']]"
   ]
  },
  {
   "cell_type": "code",
   "execution_count": null,
   "metadata": {},
   "outputs": [],
   "source": [
    "acc=0\n",
    "pos=0\n",
    "poslist=[]\n",
    "\n",
    "while poslist.count(pos)!=2:\n",
    "\n",
    "    poslist.append(pos)\n",
    "    \n",
    "    print(day8[pos][0] + \" \" + str(day8[pos][1]) + \" \" + str(acc))\n",
    "    \n",
    "    if day8[pos][0]==\"nop\":\n",
    "        poslist.append(pos)\n",
    "        pos=pos+1\n",
    "        \n",
    "    elif day8[pos][0]==\"acc\":\n",
    "        acc=acc+day8[pos][1]\n",
    "        poslist.append(pos)\n",
    "        pos=pos+1\n",
    "        \n",
    "    elif day8[pos][0]==\"jmp\":\n",
    "        pos=pos+day8[pos][1]\n"
   ]
  },
  {
   "cell_type": "markdown",
   "metadata": {},
   "source": [
    "# day 9"
   ]
  },
  {
   "cell_type": "code",
   "execution_count": 28,
   "metadata": {},
   "outputs": [],
   "source": [
    "import itertools\n",
    "with open(\"C:/Users/btait/Documents/Advent of code/2020/Day9.txt\", \"r\") as f:\n",
    "    day9=[int(x) for x in f.read().split(\"\\n\")]"
   ]
  },
  {
   "cell_type": "code",
   "execution_count": 2,
   "metadata": {},
   "outputs": [],
   "source": [
    "test=[35,20,15,25,47,40,62,55,65,95,102,117,150,182,\n",
    "127,219,299,277,309,576]"
   ]
  },
  {
   "cell_type": "code",
   "execution_count": 12,
   "metadata": {},
   "outputs": [],
   "source": [
    "def day9func(xmaslist,startpos,span):\n",
    "    \n",
    "    for a in xmaslist[startpos:]:\n",
    "        sum25=[sum(a) for a in list(itertools.combinations(xmaslist[startpos-span:startpos], 2))]\n",
    "        if a not in sum25:\n",
    "            return(a)\n",
    "            break\n",
    "        else:\n",
    "            startpos=startpos+1"
   ]
  },
  {
   "cell_type": "code",
   "execution_count": 36,
   "metadata": {},
   "outputs": [
    {
     "data": {
      "text/plain": [
       "1639024365"
      ]
     },
     "execution_count": 36,
     "metadata": {},
     "output_type": "execute_result"
    }
   ],
   "source": [
    "target=day9func(day9,26,26)\n",
    "target"
   ]
  },
  {
   "cell_type": "code",
   "execution_count": 19,
   "metadata": {},
   "outputs": [],
   "source": [
    "def chunk(n, lst):\n",
    "    n = min(n, len(lst)-1)\n",
    "    return [lst[i:i+n] for i in range(len(lst) - n+1)]"
   ]
  },
  {
   "cell_type": "code",
   "execution_count": 35,
   "metadata": {},
   "outputs": [
    {
     "name": "stdout",
     "output_type": "stream",
     "text": [
      "219202240\n"
     ]
    }
   ],
   "source": [
    "for n in range(2,len(day9)):\n",
    "    \n",
    "    day9chunk=chunk(n,day9)\n",
    "    \n",
    "    for a in day9chunk:\n",
    "        if sum(a)==target:\n",
    "            print(min(a) + max(a))\n",
    "            break"
   ]
  }
 ],
 "metadata": {
  "kernelspec": {
   "display_name": "Python 3",
   "language": "python",
   "name": "python3"
  },
  "language_info": {
   "codemirror_mode": {
    "name": "ipython",
    "version": 3
   },
   "file_extension": ".py",
   "mimetype": "text/x-python",
   "name": "python",
   "nbconvert_exporter": "python",
   "pygments_lexer": "ipython3",
   "version": "3.7.9"
  }
 },
 "nbformat": 4,
 "nbformat_minor": 4
}
